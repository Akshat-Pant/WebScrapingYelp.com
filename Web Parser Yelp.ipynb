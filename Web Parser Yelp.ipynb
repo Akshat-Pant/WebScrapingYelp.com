{
 "cells": [
  {
   "cell_type": "code",
   "execution_count": 114,
   "metadata": {
    "collapsed": true
   },
   "outputs": [],
   "source": [
    "from bs4 import BeautifulSoup\n",
    "import requests\n",
    "import csv\n"
   ]
  },
  {
   "cell_type": "markdown",
   "metadata": {},
   "source": [
    "### Define a function to get reviews from a url"
   ]
  },
  {
   "cell_type": "code",
   "execution_count": 134,
   "metadata": {
    "collapsed": true
   },
   "outputs": [],
   "source": [
    "def get_reviews(url, csvwriter):\n",
    "    review_list= []\n",
    "    response= requests.get(url)\n",
    "    html= response.content\n",
    "    #html\n",
    "    soup= BeautifulSoup(html, 'html.parser')\n",
    "    #soup\n",
    "    \n",
    "    unordered_list= soup.find('ul', attrs= {'class': 'ylist ylist-bordered reviews'})\n",
    "    \n",
    "    for li in unordered_list.find_all('li'):\n",
    "        item= li.find('div', attrs= {'class': 'review review--with-sidebar'})\n",
    "        if item:\n",
    "            user_name= item.find('li', attrs= {'class': 'user-name'}).text.replace('\\n', '')\n",
    "            date= (item.find('span', attrs= {'class': 'rating-qualifier'}).text.replace(' ', ''))\n",
    "            date= date.replace('\\n', '')\n",
    "            date= date.replace('Updatedreview', '')\n",
    "            review= str(item.find('p').text).replace('\\xa0', '')\n",
    "            csvwriter.writerow([user_name, date, review])"
   ]
  },
  {
   "cell_type": "markdown",
   "metadata": {},
   "source": [
    "### get the root webpage"
   ]
  },
  {
   "cell_type": "code",
   "execution_count": 116,
   "metadata": {
    "collapsed": true
   },
   "outputs": [],
   "source": [
    "root= 'https://www.yelp.com/biz/medstar-washington-hospital-center-washington'\n",
    "response= requests.get(root)\n",
    "html= response.content\n",
    "#html\n",
    "soup= BeautifulSoup(html, 'html.parser')\n",
    "#soup"
   ]
  },
  {
   "cell_type": "markdown",
   "metadata": {},
   "source": [
    "### store hyperlinks to next pages"
   ]
  },
  {
   "cell_type": "code",
   "execution_count": 117,
   "metadata": {
    "collapsed": true
   },
   "outputs": [],
   "source": [
    "hyperlinks= []\n",
    "\n",
    "for page in soup.find_all('div', attrs= {'class': 'arrange_unit page-option'}):\n",
    "    #print(page)\n",
    "    for link in page.find_all('a'):\n",
    "        hyperlinks.append(link.get('href'))"
   ]
  },
  {
   "cell_type": "code",
   "execution_count": 118,
   "metadata": {},
   "outputs": [
    {
     "data": {
      "text/plain": [
       "['https://www.yelp.com/biz/medstar-washington-hospital-center-washington?start=20',\n",
       " 'https://www.yelp.com/biz/medstar-washington-hospital-center-washington?start=40',\n",
       " 'https://www.yelp.com/biz/medstar-washington-hospital-center-washington?start=60',\n",
       " 'https://www.yelp.com/biz/medstar-washington-hospital-center-washington?start=80',\n",
       " 'https://www.yelp.com/biz/medstar-washington-hospital-center-washington?start=100',\n",
       " 'https://www.yelp.com/biz/medstar-washington-hospital-center-washington?start=120',\n",
       " 'https://www.yelp.com/biz/medstar-washington-hospital-center-washington?start=140']"
      ]
     },
     "execution_count": 118,
     "metadata": {},
     "output_type": "execute_result"
    }
   ],
   "source": [
    "hyperlinks"
   ]
  },
  {
   "cell_type": "markdown",
   "metadata": {},
   "source": [
    "### get reviews"
   ]
  },
  {
   "cell_type": "code",
   "execution_count": 135,
   "metadata": {
    "collapsed": true
   },
   "outputs": [],
   "source": [
    "recommended= open('/Users/akshatpant/Desktop/Medstar/Data/Recommended yelp reviews.csv', 'w')\n",
    "\n",
    "with recommended:\n",
    "    writer= csv.writer(recommended)\n",
    "    writer.writerow(['User Name', 'Date', 'Review'])\n",
    "    get_reviews(root, writer)\n",
    "    for url in hyperlinks:\n",
    "        get_reviews(url, writer)"
   ]
  },
  {
   "cell_type": "markdown",
   "metadata": {},
   "source": [
    "### not recommended reviews"
   ]
  },
  {
   "cell_type": "code",
   "execution_count": 136,
   "metadata": {
    "collapsed": true
   },
   "outputs": [],
   "source": [
    "root= 'https://www.yelp.com/not_recommended_reviews/medstar-washington-hospital-center-washington'\n",
    "response= requests.get(root)\n",
    "html= response.content\n",
    "#html\n",
    "soup= BeautifulSoup(html, 'html.parser')\n",
    "#soup"
   ]
  },
  {
   "cell_type": "markdown",
   "metadata": {},
   "source": [
    "### store hyperlinks to next pages"
   ]
  },
  {
   "cell_type": "code",
   "execution_count": 137,
   "metadata": {
    "collapsed": true
   },
   "outputs": [],
   "source": [
    "hyperlinks= []\n",
    "\n",
    "for page in soup.find_all('div', attrs= {'class': 'arrange_unit page-option'}):\n",
    "    #print(page)\n",
    "    for link in page.find_all('a'):\n",
    "        hyperlinks.append('https://www.yelp.com'+ link.get('href'))"
   ]
  },
  {
   "cell_type": "code",
   "execution_count": 138,
   "metadata": {},
   "outputs": [
    {
     "data": {
      "text/plain": [
       "['https://www.yelp.com/not_recommended_reviews/medstar-washington-hospital-center-washington?not_recommended_start=10',\n",
       " 'https://www.yelp.com/not_recommended_reviews/medstar-washington-hospital-center-washington?not_recommended_start=20',\n",
       " 'https://www.yelp.com/not_recommended_reviews/medstar-washington-hospital-center-washington?not_recommended_start=30',\n",
       " 'https://www.yelp.com/not_recommended_reviews/medstar-washington-hospital-center-washington?not_recommended_start=40']"
      ]
     },
     "execution_count": 138,
     "metadata": {},
     "output_type": "execute_result"
    }
   ],
   "source": [
    "hyperlinks"
   ]
  },
  {
   "cell_type": "markdown",
   "metadata": {},
   "source": [
    "### get reviews"
   ]
  },
  {
   "cell_type": "code",
   "execution_count": 140,
   "metadata": {
    "collapsed": true
   },
   "outputs": [],
   "source": [
    "not_recommended= open('/Users/akshatpant/Desktop/Medstar/Data/Not recommended yelp reviews.csv', 'w')\n",
    "\n",
    "with not_recommended:\n",
    "    writer= csv.writer(not_recommended)\n",
    "    writer.writerow(['User Name', 'Date', 'Review'])\n",
    "    get_reviews(root, writer)\n",
    "    for url in hyperlinks:\n",
    "        get_reviews(url, writer)"
   ]
  }
 ],
 "metadata": {
  "kernelspec": {
   "display_name": "Python 3",
   "language": "python",
   "name": "python3"
  },
  "language_info": {
   "codemirror_mode": {
    "name": "ipython",
    "version": 3
   },
   "file_extension": ".py",
   "mimetype": "text/x-python",
   "name": "python",
   "nbconvert_exporter": "python",
   "pygments_lexer": "ipython3",
   "version": "3.6.8"
  }
 },
 "nbformat": 4,
 "nbformat_minor": 2
}
